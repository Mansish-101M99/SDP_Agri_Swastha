{
 "cells": [
  {
   "cell_type": "markdown",
   "id": "bc6422ec",
   "metadata": {},
   "source": [
    "### SOIL FERTILITY KNN Model"
   ]
  },
  {
   "cell_type": "markdown",
   "id": "8f9b6e44",
   "metadata": {},
   "source": [
    "### stay tuned..."
   ]
  }
 ],
 "metadata": {
  "kernelspec": {
   "display_name": ".venv",
   "language": "python",
   "name": "python3"
  },
  "language_info": {
   "name": "python",
   "version": "3.12.1"
  }
 },
 "nbformat": 4,
 "nbformat_minor": 5
}
