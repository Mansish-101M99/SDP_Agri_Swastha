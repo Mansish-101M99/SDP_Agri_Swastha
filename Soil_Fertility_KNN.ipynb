{
 "cells": [
  {
   "cell_type": "markdown",
   "id": "bc6422ec",
   "metadata": {},
   "source": [
    "### SOIL FERTILITY KNN Model"
   ]
  },
  {
   "cell_type": "markdown",
   "id": "8f9b6e44",
   "metadata": {},
   "source": [
    "### stay tuned..."
   ]
  }
 ],
 "metadata": {
  "language_info": {
   "name": "python"
  }
 },
 "nbformat": 4,
 "nbformat_minor": 5
}
